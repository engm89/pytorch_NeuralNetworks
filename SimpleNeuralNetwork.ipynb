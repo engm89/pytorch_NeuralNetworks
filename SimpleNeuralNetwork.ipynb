{
 "cells": [
  {
   "cell_type": "code",
   "execution_count": 1,
   "metadata": {},
   "outputs": [],
   "source": [
    "import torch\n",
    "import torch.nn as nn\n",
    "import torch.nn.functional as F\n",
    "import pandas as pd\n",
    "import matplotlib.pyplot as plt\n",
    "from sklearn.model_selection import train_test_split"
   ]
  },
  {
   "cell_type": "code",
   "execution_count": 2,
   "metadata": {},
   "outputs": [
    {
     "data": {
      "text/plain": [
       "<torch._C.Generator at 0x280970501f0>"
      ]
     },
     "execution_count": 2,
     "metadata": {},
     "output_type": "execute_result"
    }
   ],
   "source": [
    "torch.manual_seed(42)"
   ]
  },
  {
   "cell_type": "code",
   "execution_count": 97,
   "metadata": {},
   "outputs": [],
   "source": [
    "class Model(nn.Module):\n",
    "    def __init__(self, in_features=4, out_features=3, h1_units=100, h2_units=50, h3_unit=20):\n",
    "        super().__init__()\n",
    "        self.fc1 = nn.Linear(in_features, h1_units)\n",
    "        self.fc2 = nn.Linear(h1_units, h2_units)\n",
    "        self.fc3 = nn.Linear(h2_units, h3_unit)\n",
    "        self.out = nn.Linear(h3_unit, out_features)\n",
    "\n",
    "    def forward(self, x):\n",
    "        x = F.relu(self.fc1(x))\n",
    "        x = F.relu(self.fc2(x))\n",
    "        x = F.relu(self.fc3(x))\n",
    "        x = self.out(x)\n",
    "        return x"
   ]
  },
  {
   "cell_type": "code",
   "execution_count": 4,
   "metadata": {},
   "outputs": [],
   "source": [
    "url = 'https://gist.githubusercontent.com/netj/8836201/raw/6f9306ad21398ea43cba4f7d537619d0e07d5ae3/iris.csv'\n",
    "my_data = pd.read_csv(url)"
   ]
  },
  {
   "cell_type": "code",
   "execution_count": 5,
   "metadata": {},
   "outputs": [
    {
     "data": {
      "text/html": [
       "<div>\n",
       "<style scoped>\n",
       "    .dataframe tbody tr th:only-of-type {\n",
       "        vertical-align: middle;\n",
       "    }\n",
       "\n",
       "    .dataframe tbody tr th {\n",
       "        vertical-align: top;\n",
       "    }\n",
       "\n",
       "    .dataframe thead th {\n",
       "        text-align: right;\n",
       "    }\n",
       "</style>\n",
       "<table border=\"1\" class=\"dataframe\">\n",
       "  <thead>\n",
       "    <tr style=\"text-align: right;\">\n",
       "      <th></th>\n",
       "      <th>sepal.length</th>\n",
       "      <th>sepal.width</th>\n",
       "      <th>petal.length</th>\n",
       "      <th>petal.width</th>\n",
       "      <th>variety</th>\n",
       "    </tr>\n",
       "  </thead>\n",
       "  <tbody>\n",
       "    <tr>\n",
       "      <th>0</th>\n",
       "      <td>5.1</td>\n",
       "      <td>3.5</td>\n",
       "      <td>1.4</td>\n",
       "      <td>0.2</td>\n",
       "      <td>Setosa</td>\n",
       "    </tr>\n",
       "    <tr>\n",
       "      <th>1</th>\n",
       "      <td>4.9</td>\n",
       "      <td>3.0</td>\n",
       "      <td>1.4</td>\n",
       "      <td>0.2</td>\n",
       "      <td>Setosa</td>\n",
       "    </tr>\n",
       "    <tr>\n",
       "      <th>2</th>\n",
       "      <td>4.7</td>\n",
       "      <td>3.2</td>\n",
       "      <td>1.3</td>\n",
       "      <td>0.2</td>\n",
       "      <td>Setosa</td>\n",
       "    </tr>\n",
       "    <tr>\n",
       "      <th>3</th>\n",
       "      <td>4.6</td>\n",
       "      <td>3.1</td>\n",
       "      <td>1.5</td>\n",
       "      <td>0.2</td>\n",
       "      <td>Setosa</td>\n",
       "    </tr>\n",
       "    <tr>\n",
       "      <th>4</th>\n",
       "      <td>5.0</td>\n",
       "      <td>3.6</td>\n",
       "      <td>1.4</td>\n",
       "      <td>0.2</td>\n",
       "      <td>Setosa</td>\n",
       "    </tr>\n",
       "  </tbody>\n",
       "</table>\n",
       "</div>"
      ],
      "text/plain": [
       "   sepal.length  sepal.width  petal.length  petal.width variety\n",
       "0           5.1          3.5           1.4          0.2  Setosa\n",
       "1           4.9          3.0           1.4          0.2  Setosa\n",
       "2           4.7          3.2           1.3          0.2  Setosa\n",
       "3           4.6          3.1           1.5          0.2  Setosa\n",
       "4           5.0          3.6           1.4          0.2  Setosa"
      ]
     },
     "execution_count": 5,
     "metadata": {},
     "output_type": "execute_result"
    }
   ],
   "source": [
    "my_data.head()"
   ]
  },
  {
   "cell_type": "code",
   "execution_count": 6,
   "metadata": {},
   "outputs": [
    {
     "data": {
      "text/html": [
       "<div>\n",
       "<style scoped>\n",
       "    .dataframe tbody tr th:only-of-type {\n",
       "        vertical-align: middle;\n",
       "    }\n",
       "\n",
       "    .dataframe tbody tr th {\n",
       "        vertical-align: top;\n",
       "    }\n",
       "\n",
       "    .dataframe thead th {\n",
       "        text-align: right;\n",
       "    }\n",
       "</style>\n",
       "<table border=\"1\" class=\"dataframe\">\n",
       "  <thead>\n",
       "    <tr style=\"text-align: right;\">\n",
       "      <th></th>\n",
       "      <th>sepal.length</th>\n",
       "      <th>sepal.width</th>\n",
       "      <th>petal.length</th>\n",
       "      <th>petal.width</th>\n",
       "    </tr>\n",
       "  </thead>\n",
       "  <tbody>\n",
       "    <tr>\n",
       "      <th>count</th>\n",
       "      <td>150.000000</td>\n",
       "      <td>150.000000</td>\n",
       "      <td>150.000000</td>\n",
       "      <td>150.000000</td>\n",
       "    </tr>\n",
       "    <tr>\n",
       "      <th>mean</th>\n",
       "      <td>5.843333</td>\n",
       "      <td>3.057333</td>\n",
       "      <td>3.758000</td>\n",
       "      <td>1.199333</td>\n",
       "    </tr>\n",
       "    <tr>\n",
       "      <th>std</th>\n",
       "      <td>0.828066</td>\n",
       "      <td>0.435866</td>\n",
       "      <td>1.765298</td>\n",
       "      <td>0.762238</td>\n",
       "    </tr>\n",
       "    <tr>\n",
       "      <th>min</th>\n",
       "      <td>4.300000</td>\n",
       "      <td>2.000000</td>\n",
       "      <td>1.000000</td>\n",
       "      <td>0.100000</td>\n",
       "    </tr>\n",
       "    <tr>\n",
       "      <th>25%</th>\n",
       "      <td>5.100000</td>\n",
       "      <td>2.800000</td>\n",
       "      <td>1.600000</td>\n",
       "      <td>0.300000</td>\n",
       "    </tr>\n",
       "    <tr>\n",
       "      <th>50%</th>\n",
       "      <td>5.800000</td>\n",
       "      <td>3.000000</td>\n",
       "      <td>4.350000</td>\n",
       "      <td>1.300000</td>\n",
       "    </tr>\n",
       "    <tr>\n",
       "      <th>75%</th>\n",
       "      <td>6.400000</td>\n",
       "      <td>3.300000</td>\n",
       "      <td>5.100000</td>\n",
       "      <td>1.800000</td>\n",
       "    </tr>\n",
       "    <tr>\n",
       "      <th>max</th>\n",
       "      <td>7.900000</td>\n",
       "      <td>4.400000</td>\n",
       "      <td>6.900000</td>\n",
       "      <td>2.500000</td>\n",
       "    </tr>\n",
       "  </tbody>\n",
       "</table>\n",
       "</div>"
      ],
      "text/plain": [
       "       sepal.length  sepal.width  petal.length  petal.width\n",
       "count    150.000000   150.000000    150.000000   150.000000\n",
       "mean       5.843333     3.057333      3.758000     1.199333\n",
       "std        0.828066     0.435866      1.765298     0.762238\n",
       "min        4.300000     2.000000      1.000000     0.100000\n",
       "25%        5.100000     2.800000      1.600000     0.300000\n",
       "50%        5.800000     3.000000      4.350000     1.300000\n",
       "75%        6.400000     3.300000      5.100000     1.800000\n",
       "max        7.900000     4.400000      6.900000     2.500000"
      ]
     },
     "execution_count": 6,
     "metadata": {},
     "output_type": "execute_result"
    }
   ],
   "source": [
    "my_data.describe()"
   ]
  },
  {
   "cell_type": "code",
   "execution_count": 7,
   "metadata": {},
   "outputs": [
    {
     "name": "stdout",
     "output_type": "stream",
     "text": [
      "     sepal.length  sepal.width  petal.length  petal.width  variety\n",
      "0             5.1          3.5           1.4          0.2      0.0\n",
      "1             4.9          3.0           1.4          0.2      0.0\n",
      "2             4.7          3.2           1.3          0.2      0.0\n",
      "3             4.6          3.1           1.5          0.2      0.0\n",
      "4             5.0          3.6           1.4          0.2      0.0\n",
      "..            ...          ...           ...          ...      ...\n",
      "145           6.7          3.0           5.2          2.3      2.0\n",
      "146           6.3          2.5           5.0          1.9      2.0\n",
      "147           6.5          3.0           5.2          2.0      2.0\n",
      "148           6.2          3.4           5.4          2.3      2.0\n",
      "149           5.9          3.0           5.1          1.8      2.0\n",
      "\n",
      "[150 rows x 5 columns]\n"
     ]
    }
   ],
   "source": [
    "my_data['variety'] = my_data['variety'].replace('Setosa', 0.0)\n",
    "my_data['variety'] = my_data['variety'].replace('Versicolor', 1.0)\n",
    "my_data['variety'] = my_data['variety'].replace('Virginica', 2.0)\n",
    "print(my_data)\n",
    "\n",
    "X = my_data.drop('variety', axis=1)\n",
    "y = my_data['variety']\n",
    "\n",
    "# convert X and y to numpy array\n",
    "X = X.values\n",
    "y = y.values"
   ]
  },
  {
   "cell_type": "code",
   "execution_count": 68,
   "metadata": {},
   "outputs": [],
   "source": [
    "X_train, X_test, y_train, y_test = train_test_split(X, y, test_size=0.2, random_state=42)\n",
    "\n",
    "# convert X_train, X_test to Tensors\n",
    "X_train = torch.FloatTensor(X_train)\n",
    "X_test = torch.FloatTensor(X_test)\n",
    "\n",
    "# convert y_train, y_test = Tensors\n",
    "y_train = torch.LongTensor(y_train)\n",
    "y_test = torch.LongTensor(y_test)"
   ]
  },
  {
   "cell_type": "code",
   "execution_count": 69,
   "metadata": {},
   "outputs": [
    {
     "data": {
      "text/plain": [
       "tensor([[4.6000, 3.6000, 1.0000, 0.2000],\n",
       "        [5.7000, 4.4000, 1.5000, 0.4000],\n",
       "        [6.7000, 3.1000, 4.4000, 1.4000],\n",
       "        [4.8000, 3.4000, 1.6000, 0.2000],\n",
       "        [4.4000, 3.2000, 1.3000, 0.2000],\n",
       "        [6.3000, 2.5000, 5.0000, 1.9000],\n",
       "        [6.4000, 3.2000, 4.5000, 1.5000],\n",
       "        [5.2000, 3.5000, 1.5000, 0.2000],\n",
       "        [5.0000, 3.6000, 1.4000, 0.2000],\n",
       "        [5.2000, 4.1000, 1.5000, 0.1000],\n",
       "        [5.8000, 2.7000, 5.1000, 1.9000],\n",
       "        [6.0000, 3.4000, 4.5000, 1.6000],\n",
       "        [6.7000, 3.1000, 4.7000, 1.5000],\n",
       "        [5.4000, 3.9000, 1.3000, 0.4000],\n",
       "        [5.4000, 3.7000, 1.5000, 0.2000],\n",
       "        [5.5000, 2.4000, 3.7000, 1.0000],\n",
       "        [6.3000, 2.8000, 5.1000, 1.5000],\n",
       "        [6.4000, 3.1000, 5.5000, 1.8000],\n",
       "        [6.6000, 3.0000, 4.4000, 1.4000],\n",
       "        [7.2000, 3.6000, 6.1000, 2.5000],\n",
       "        [5.7000, 2.9000, 4.2000, 1.3000],\n",
       "        [7.6000, 3.0000, 6.6000, 2.1000],\n",
       "        [5.6000, 3.0000, 4.5000, 1.5000],\n",
       "        [5.1000, 3.5000, 1.4000, 0.2000],\n",
       "        [7.7000, 2.8000, 6.7000, 2.0000],\n",
       "        [5.8000, 2.7000, 4.1000, 1.0000],\n",
       "        [5.2000, 3.4000, 1.4000, 0.2000],\n",
       "        [5.0000, 3.5000, 1.3000, 0.3000],\n",
       "        [5.1000, 3.8000, 1.9000, 0.4000],\n",
       "        [5.0000, 2.0000, 3.5000, 1.0000],\n",
       "        [6.3000, 2.7000, 4.9000, 1.8000],\n",
       "        [4.8000, 3.4000, 1.9000, 0.2000],\n",
       "        [5.0000, 3.0000, 1.6000, 0.2000],\n",
       "        [5.1000, 3.3000, 1.7000, 0.5000],\n",
       "        [5.6000, 2.7000, 4.2000, 1.3000],\n",
       "        [5.1000, 3.4000, 1.5000, 0.2000],\n",
       "        [5.7000, 3.0000, 4.2000, 1.2000],\n",
       "        [7.7000, 3.8000, 6.7000, 2.2000],\n",
       "        [4.6000, 3.2000, 1.4000, 0.2000],\n",
       "        [6.2000, 2.9000, 4.3000, 1.3000],\n",
       "        [5.7000, 2.5000, 5.0000, 2.0000],\n",
       "        [5.5000, 4.2000, 1.4000, 0.2000],\n",
       "        [6.0000, 3.0000, 4.8000, 1.8000],\n",
       "        [5.8000, 2.7000, 5.1000, 1.9000],\n",
       "        [6.0000, 2.2000, 4.0000, 1.0000],\n",
       "        [5.4000, 3.0000, 4.5000, 1.5000],\n",
       "        [6.2000, 3.4000, 5.4000, 2.3000],\n",
       "        [5.5000, 2.3000, 4.0000, 1.3000],\n",
       "        [5.4000, 3.9000, 1.7000, 0.4000],\n",
       "        [5.0000, 2.3000, 3.3000, 1.0000],\n",
       "        [6.4000, 2.7000, 5.3000, 1.9000],\n",
       "        [5.0000, 3.3000, 1.4000, 0.2000],\n",
       "        [5.0000, 3.2000, 1.2000, 0.2000],\n",
       "        [5.5000, 2.4000, 3.8000, 1.1000],\n",
       "        [6.7000, 3.0000, 5.0000, 1.7000],\n",
       "        [4.9000, 3.1000, 1.5000, 0.2000],\n",
       "        [5.8000, 2.8000, 5.1000, 2.4000],\n",
       "        [5.0000, 3.4000, 1.5000, 0.2000],\n",
       "        [5.0000, 3.5000, 1.6000, 0.6000],\n",
       "        [5.9000, 3.2000, 4.8000, 1.8000],\n",
       "        [5.1000, 2.5000, 3.0000, 1.1000],\n",
       "        [6.9000, 3.2000, 5.7000, 2.3000],\n",
       "        [6.0000, 2.7000, 5.1000, 1.6000],\n",
       "        [6.1000, 2.6000, 5.6000, 1.4000],\n",
       "        [7.7000, 3.0000, 6.1000, 2.3000],\n",
       "        [5.5000, 2.5000, 4.0000, 1.3000],\n",
       "        [4.4000, 2.9000, 1.4000, 0.2000],\n",
       "        [4.3000, 3.0000, 1.1000, 0.1000],\n",
       "        [6.0000, 2.2000, 5.0000, 1.5000],\n",
       "        [7.2000, 3.2000, 6.0000, 1.8000],\n",
       "        [4.6000, 3.1000, 1.5000, 0.2000],\n",
       "        [5.1000, 3.5000, 1.4000, 0.3000],\n",
       "        [4.4000, 3.0000, 1.3000, 0.2000],\n",
       "        [6.3000, 2.5000, 4.9000, 1.5000],\n",
       "        [6.3000, 3.4000, 5.6000, 2.4000],\n",
       "        [4.6000, 3.4000, 1.4000, 0.3000],\n",
       "        [6.8000, 3.0000, 5.5000, 2.1000],\n",
       "        [6.3000, 3.3000, 6.0000, 2.5000],\n",
       "        [4.7000, 3.2000, 1.3000, 0.2000],\n",
       "        [6.1000, 2.9000, 4.7000, 1.4000],\n",
       "        [6.5000, 2.8000, 4.6000, 1.5000],\n",
       "        [6.2000, 2.8000, 4.8000, 1.8000],\n",
       "        [7.0000, 3.2000, 4.7000, 1.4000],\n",
       "        [6.4000, 3.2000, 5.3000, 2.3000],\n",
       "        [5.1000, 3.8000, 1.6000, 0.2000],\n",
       "        [6.9000, 3.1000, 5.4000, 2.1000],\n",
       "        [5.9000, 3.0000, 4.2000, 1.5000],\n",
       "        [6.5000, 3.0000, 5.2000, 2.0000],\n",
       "        [5.7000, 2.6000, 3.5000, 1.0000],\n",
       "        [5.2000, 2.7000, 3.9000, 1.4000],\n",
       "        [6.1000, 3.0000, 4.6000, 1.4000],\n",
       "        [4.5000, 2.3000, 1.3000, 0.3000],\n",
       "        [6.6000, 2.9000, 4.6000, 1.3000],\n",
       "        [5.5000, 2.6000, 4.4000, 1.2000],\n",
       "        [5.3000, 3.7000, 1.5000, 0.2000],\n",
       "        [5.6000, 3.0000, 4.1000, 1.3000],\n",
       "        [7.3000, 2.9000, 6.3000, 1.8000],\n",
       "        [6.7000, 3.3000, 5.7000, 2.1000],\n",
       "        [5.1000, 3.7000, 1.5000, 0.4000],\n",
       "        [4.9000, 2.4000, 3.3000, 1.0000],\n",
       "        [6.7000, 3.3000, 5.7000, 2.5000],\n",
       "        [7.2000, 3.0000, 5.8000, 1.6000],\n",
       "        [4.9000, 3.6000, 1.4000, 0.1000],\n",
       "        [6.7000, 3.1000, 5.6000, 2.4000],\n",
       "        [4.9000, 3.0000, 1.4000, 0.2000],\n",
       "        [6.9000, 3.1000, 4.9000, 1.5000],\n",
       "        [7.4000, 2.8000, 6.1000, 1.9000],\n",
       "        [6.3000, 2.9000, 5.6000, 1.8000],\n",
       "        [5.7000, 2.8000, 4.1000, 1.3000],\n",
       "        [6.5000, 3.0000, 5.5000, 1.8000],\n",
       "        [6.3000, 2.3000, 4.4000, 1.3000],\n",
       "        [6.4000, 2.9000, 4.3000, 1.3000],\n",
       "        [5.6000, 2.8000, 4.9000, 2.0000],\n",
       "        [5.9000, 3.0000, 5.1000, 1.8000],\n",
       "        [5.4000, 3.4000, 1.7000, 0.2000],\n",
       "        [6.1000, 2.8000, 4.0000, 1.3000],\n",
       "        [4.9000, 2.5000, 4.5000, 1.7000],\n",
       "        [5.8000, 4.0000, 1.2000, 0.2000],\n",
       "        [5.8000, 2.6000, 4.0000, 1.2000],\n",
       "        [7.1000, 3.0000, 5.9000, 2.1000]])"
      ]
     },
     "execution_count": 69,
     "metadata": {},
     "output_type": "execute_result"
    }
   ],
   "source": [
    "X_train"
   ]
  },
  {
   "cell_type": "code",
   "execution_count": 98,
   "metadata": {},
   "outputs": [],
   "source": [
    "model = Model()"
   ]
  },
  {
   "cell_type": "code",
   "execution_count": 99,
   "metadata": {},
   "outputs": [],
   "source": [
    "criterion = nn.CrossEntropyLoss()\n",
    "optimizer = torch.optim.Adam(model.parameters(), lr=0.001)"
   ]
  },
  {
   "cell_type": "code",
   "execution_count": 100,
   "metadata": {},
   "outputs": [
    {
     "name": "stdout",
     "output_type": "stream",
     "text": [
      "Epoch: 0 amd loss: 1.0987008810043335\n",
      "Epoch: 10 amd loss: 1.0861937999725342\n",
      "Epoch: 20 amd loss: 1.0765737295150757\n",
      "Epoch: 30 amd loss: 1.067751407623291\n",
      "Epoch: 40 amd loss: 1.058588981628418\n",
      "Epoch: 50 amd loss: 1.0501959323883057\n",
      "Epoch: 60 amd loss: 1.0412886142730713\n",
      "Epoch: 70 amd loss: 1.0319275856018066\n",
      "Epoch: 80 amd loss: 1.0225656032562256\n",
      "Epoch: 90 amd loss: 1.0129634141921997\n",
      "Epoch: 100 amd loss: 1.0030341148376465\n",
      "Epoch: 110 amd loss: 0.9926601052284241\n",
      "Epoch: 120 amd loss: 0.9815919995307922\n",
      "Epoch: 130 amd loss: 0.9704017639160156\n",
      "Epoch: 140 amd loss: 0.9589755535125732\n",
      "Epoch: 150 amd loss: 0.9471613764762878\n",
      "Epoch: 160 amd loss: 0.9346901774406433\n",
      "Epoch: 170 amd loss: 0.9214315414428711\n",
      "Epoch: 180 amd loss: 0.9073704481124878\n",
      "Epoch: 190 amd loss: 0.8927282691001892\n",
      "Epoch: 200 amd loss: 0.8772343397140503\n",
      "Epoch: 210 amd loss: 0.8609234094619751\n",
      "Epoch: 220 amd loss: 0.8452336192131042\n",
      "Epoch: 230 amd loss: 0.8289347290992737\n",
      "Epoch: 240 amd loss: 0.8119997382164001\n"
     ]
    }
   ],
   "source": [
    "epochs = 250\n",
    "losses = []\n",
    "for epoch in range(epochs):\n",
    "    y_pred = model.forward(X_train)\n",
    "\n",
    "    loss = criterion(y_pred, y_train)\n",
    "    losses.append(loss.detach().numpy())\n",
    "\n",
    "    if epoch % 10 ==0:\n",
    "        print(f'Epoch: {epoch} amd loss: {loss}')\n",
    "\n",
    "        optimizer.zero_grad()\n",
    "        loss.backward()\n",
    "        optimizer.step()\n"
   ]
  },
  {
   "cell_type": "code",
   "execution_count": 101,
   "metadata": {},
   "outputs": [
    {
     "data": {
      "text/plain": [
       "Text(0.5, 0, 'Epoch')"
      ]
     },
     "execution_count": 101,
     "metadata": {},
     "output_type": "execute_result"
    },
    {
     "data": {
      "image/png": "[encoded data removed]",
      "text/plain": [
       "<Figure size 640x480 with 1 Axes>"
      ]
     },
     "metadata": {},
     "output_type": "display_data"
    }
   ],
   "source": [
    "plt.plot(range(epochs), losses)\n",
    "plt.grid()\n",
    "plt.ylabel(\"Loss/Error\")\n",
    "plt.xlabel(\"Epoch\")"
   ]
  },
  {
   "cell_type": "code",
   "execution_count": 102,
   "metadata": {},
   "outputs": [],
   "source": [
    "with torch.no_grad():\n",
    "    y_eval= model.forward(X_test)\n",
    "    loss = criterion(y_eval, y_test)\n"
   ]
  },
  {
   "cell_type": "code",
   "execution_count": 103,
   "metadata": {},
   "outputs": [
    {
     "data": {
      "text/plain": [
       "tensor(0.7961)"
      ]
     },
     "execution_count": 103,
     "metadata": {},
     "output_type": "execute_result"
    }
   ],
   "source": [
    "loss"
   ]
  },
  {
   "cell_type": "code",
   "execution_count": 104,
   "metadata": {},
   "outputs": [
    {
     "name": "stdout",
     "output_type": "stream",
     "text": [
      "1.) tensor([-0.4713,  0.2663,  0.1956]) \t 1 \t 1 \t Versicolor \t Versicolor\n",
      "2.) tensor([ 0.9246, -0.4273,  0.2900]) \t 0 \t 0 \t Setosa \t Setosa\n",
      "3.) tensor([-0.7828,  0.2156,  0.3325]) \t 2 \t 2 \t Virginica \t Virginica\n",
      "4.) tensor([-0.4546,  0.2636,  0.1977]) \t 1 \t 1 \t Versicolor \t Versicolor\n",
      "5.) tensor([-0.4977,  0.2885,  0.2142]) \t 1 \t 1 \t Versicolor \t Versicolor\n",
      "6.) tensor([ 0.8478, -0.3743,  0.2660]) \t 0 \t 0 \t Setosa \t Setosa\n",
      "7.) tensor([-0.1938,  0.1716,  0.1672]) \t 1 \t 1 \t Versicolor \t Versicolor\n",
      "8.) tensor([-0.5607,  0.2625,  0.2671]) \t 2 \t 2 \t Virginica \t Virginica\n",
      "9.) tensor([-0.5134,  0.2580,  0.2113]) \t 1 \t 1 \t Versicolor \t Versicolor\n",
      "10.) tensor([-0.3246,  0.2483,  0.1628]) \t 1 \t 1 \t Versicolor \t Versicolor\n",
      "11.) tensor([-0.5383,  0.2552,  0.2506]) \t 2 \t 1 \t Virginica \t Versicolor\n",
      "12.) tensor([ 0.7637, -0.3177,  0.2290]) \t 0 \t 0 \t Setosa \t Setosa\n",
      "13.) tensor([ 0.9540, -0.4427,  0.2921]) \t 0 \t 0 \t Setosa \t Setosa\n",
      "14.) tensor([ 0.7679, -0.3219,  0.2331]) \t 0 \t 0 \t Setosa \t Setosa\n",
      "15.) tensor([ 0.9224, -0.4303,  0.2737]) \t 0 \t 0 \t Setosa \t Setosa\n",
      "16.) tensor([-0.4352,  0.2611,  0.2062]) \t 1 \t 1 \t Versicolor \t Versicolor\n",
      "17.) tensor([-0.6390,  0.2188,  0.2872]) \t 2 \t 2 \t Virginica \t Virginica\n",
      "18.) tensor([-0.3678,  0.2605,  0.1560]) \t 1 \t 1 \t Versicolor \t Versicolor\n",
      "19.) tensor([-0.4513,  0.2542,  0.1884]) \t 1 \t 1 \t Versicolor \t Versicolor\n",
      "20.) tensor([-0.6265,  0.2182,  0.2779]) \t 2 \t 2 \t Virginica \t Virginica\n",
      "21.) tensor([ 0.7304, -0.3034,  0.2212]) \t 0 \t 0 \t Setosa \t Setosa\n",
      "22.) tensor([-0.5177,  0.2466,  0.2326]) \t 2 \t 1 \t Virginica \t Versicolor\n",
      "23.) tensor([ 0.7775, -0.3362,  0.2425]) \t 0 \t 0 \t Setosa \t Setosa\n",
      "24.) tensor([-0.6243,  0.2207,  0.2756]) \t 2 \t 2 \t Virginica \t Virginica\n",
      "25.) tensor([-0.6564,  0.2772,  0.3124]) \t 2 \t 2 \t Virginica \t Virginica\n",
      "26.) tensor([-0.5806,  0.2475,  0.2728]) \t 2 \t 2 \t Virginica \t Virginica\n",
      "27.) tensor([-0.6530,  0.2263,  0.2756]) \t 2 \t 2 \t Virginica \t Virginica\n",
      "28.) tensor([-0.6457,  0.2292,  0.2987]) \t 2 \t 2 \t Virginica \t Virginica\n",
      "29.) tensor([ 0.7382, -0.3047,  0.2268]) \t 0 \t 0 \t Setosa \t Setosa\n",
      "30.) tensor([ 0.7134, -0.2928,  0.2221]) \t 0 \t 0 \t Setosa \t Setosa\n",
      "We got 28 correct\n"
     ]
    }
   ],
   "source": [
    "correct = 0\n",
    "with torch.no_grad():\n",
    "    for i, data in enumerate(X_test):\n",
    "        y_val = model.forward(data)\n",
    "\n",
    "        if y_test[i]==0:\n",
    "            x = 'Setosa'\n",
    "        elif y_test[i]==1:\n",
    "             x = 'Versicolor'\n",
    "        else:\n",
    "             x = 'Virginica'\n",
    "        \n",
    "        if y_val.argmax()==0:\n",
    "            z = 'Setosa'\n",
    "        elif y_val.argmax()==1:\n",
    "             z = 'Versicolor'\n",
    "        else:\n",
    "             z = 'Virginica'\n",
    "\n",
    "\n",
    "\n",
    "        print(f'{i+1}.) {str(y_val)} \\t {y_test[i]} \\t {y_val.argmax().item()} \\t {x} \\t {z}')\n",
    "\n",
    "        if y_val.argmax().item() == y_test[i]:\n",
    "            correct +=1\n",
    "    print(f'We got {correct} correct')\n",
    "        "
   ]
  },
  {
   "cell_type": "code",
   "execution_count": 105,
   "metadata": {},
   "outputs": [],
   "source": [
    "new_iris = torch.tensor([4.7, 3.2, 1.3, 0.2])"
   ]
  },
  {
   "cell_type": "code",
   "execution_count": 109,
   "metadata": {},
   "outputs": [
    {
     "name": "stdout",
     "output_type": "stream",
     "text": [
      "tensor([ 0.8148, -0.3546,  0.2384])\n"
     ]
    }
   ],
   "source": [
    "with torch.no_grad():\n",
    "    y = model(new_iris)\n",
    "    print (y)"
   ]
  },
  {
   "cell_type": "code",
   "execution_count": 116,
   "metadata": {},
   "outputs": [],
   "source": [
    "def new_data_testing(new_data):\n",
    "    new = model(new_data)\n",
    "    \n",
    "    if new.argmax()==0:\n",
    "        z = 'Setosa'\n",
    "    elif new.argmax()==1:\n",
    "        z = 'Versicolor'\n",
    "    else:\n",
    "        z = 'Virginica'\n",
    "    print(z)\n"
   ]
  },
  {
   "cell_type": "code",
   "execution_count": 117,
   "metadata": {},
   "outputs": [
    {
     "name": "stdout",
     "output_type": "stream",
     "text": [
      "Setosa\n"
     ]
    }
   ],
   "source": [
    "new_data_testing(new_iris)"
   ]
  },
  {
   "cell_type": "code",
   "execution_count": 118,
   "metadata": {},
   "outputs": [],
   "source": [
    "# Save our model\n",
    "torch.save(model.state_dict(), 'IRIS_Model_Pytorch.pt')"
   ]
  },
  {
   "cell_type": "code",
   "execution_count": 120,
   "metadata": {},
   "outputs": [
    {
     "data": {
      "text/plain": [
       "Model(\n",
       "  (fc1): Linear(in_features=4, out_features=100, bias=True)\n",
       "  (fc2): Linear(in_features=100, out_features=50, bias=True)\n",
       "  (fc3): Linear(in_features=50, out_features=20, bias=True)\n",
       "  (out): Linear(in_features=20, out_features=3, bias=True)\n",
       ")"
      ]
     },
     "execution_count": 120,
     "metadata": {},
     "output_type": "execute_result"
    }
   ],
   "source": [
    "# Load our model\n",
    "new_model = Model()\n",
    "new_model.load_state_dict(torch.load('IRIS_Model_Pytorch.pt'))\n",
    "new_model.eval()"
   ]
  }
 ],
 "metadata": {
  "kernelspec": {
   "display_name": "DL",
   "language": "python",
   "name": "python3"
  },
  "language_info": {
   "codemirror_mode": {
    "name": "ipython",
    "version": 3
   },
   "file_extension": ".py",
   "mimetype": "text/x-python",
   "name": "python",
   "nbconvert_exporter": "python",
   "pygments_lexer": "ipython3",
   "version": "3.10.13"
  },
  "orig_nbformat": 4
 },
 "nbformat": 4,
 "nbformat_minor": 2
}
