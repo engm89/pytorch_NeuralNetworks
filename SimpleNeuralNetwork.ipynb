{
 "cells": [
  {
   "cell_type": "code",
   "execution_count": 1,
   "metadata": {},
   "outputs": [],
   "source": [
    "import torch\n",
    "import torch.nn as nn\n",
    "import torch.nn.functional as F\n",
    "import pandas as pd\n",
    "import matplotlib.pyplot as plt\n",
    "from sklearn.model_selection import train_test_split"
   ]
  },
  {
   "cell_type": "code",
   "execution_count": 2,
   "metadata": {},
   "outputs": [
    {
     "data": {
      "text/plain": [
       "<torch._C.Generator at 0x1946f913f50>"
      ]
     },
     "execution_count": 2,
     "metadata": {},
     "output_type": "execute_result"
    }
   ],
   "source": [
    "torch.manual_seed(42)"
   ]
  },
  {
   "cell_type": "code",
   "execution_count": 3,
   "metadata": {},
   "outputs": [],
   "source": [
    "class Model(nn.Module):\n",
    "    def __init__(self, in_features=4, out_features=3, h1_units=100, h2_units=50, h3_unit=20):\n",
    "        super().__init__()\n",
    "        self.fc1 = nn.Linear(in_features, h1_units)\n",
    "        self.fc2 = nn.Linear(h1_units, h2_units)\n",
    "        self.fc3 = nn.Linear(h2_units, h3_unit)\n",
    "        self.out = nn.Linear(h3_unit, out_features)\n",
    "\n",
    "    def forward(self, x):\n",
    "        x = F.relu(self.fc1(x))\n",
    "        x = F.relu(self.fc2(x))\n",
    "        x = F.relu(self.fc3(x))\n",
    "        x = self.out(x)\n",
    "        return x"
   ]
  },
  {
   "cell_type": "code",
   "execution_count": 4,
   "metadata": {},
   "outputs": [],
   "source": [
    "url = 'https://gist.githubusercontent.com/netj/8836201/raw/6f9306ad21398ea43cba4f7d537619d0e07d5ae3/iris.csv'\n",
    "my_data = pd.read_csv(url)"
   ]
  },
  {
   "cell_type": "code",
   "execution_count": 5,
   "metadata": {},
   "outputs": [
    {
     "data": {
      "text/html": [
       "<div>\n",
       "<style scoped>\n",
       "    .dataframe tbody tr th:only-of-type {\n",
       "        vertical-align: middle;\n",
       "    }\n",
       "\n",
       "    .dataframe tbody tr th {\n",
       "        vertical-align: top;\n",
       "    }\n",
       "\n",
       "    .dataframe thead th {\n",
       "        text-align: right;\n",
       "    }\n",
       "</style>\n",
       "<table border=\"1\" class=\"dataframe\">\n",
       "  <thead>\n",
       "    <tr style=\"text-align: right;\">\n",
       "      <th></th>\n",
       "      <th>sepal.length</th>\n",
       "      <th>sepal.width</th>\n",
       "      <th>petal.length</th>\n",
       "      <th>petal.width</th>\n",
       "      <th>variety</th>\n",
       "    </tr>\n",
       "  </thead>\n",
       "  <tbody>\n",
       "    <tr>\n",
       "      <th>0</th>\n",
       "      <td>5.1</td>\n",
       "      <td>3.5</td>\n",
       "      <td>1.4</td>\n",
       "      <td>0.2</td>\n",
       "      <td>Setosa</td>\n",
       "    </tr>\n",
       "    <tr>\n",
       "      <th>1</th>\n",
       "      <td>4.9</td>\n",
       "      <td>3.0</td>\n",
       "      <td>1.4</td>\n",
       "      <td>0.2</td>\n",
       "      <td>Setosa</td>\n",
       "    </tr>\n",
       "    <tr>\n",
       "      <th>2</th>\n",
       "      <td>4.7</td>\n",
       "      <td>3.2</td>\n",
       "      <td>1.3</td>\n",
       "      <td>0.2</td>\n",
       "      <td>Setosa</td>\n",
       "    </tr>\n",
       "    <tr>\n",
       "      <th>3</th>\n",
       "      <td>4.6</td>\n",
       "      <td>3.1</td>\n",
       "      <td>1.5</td>\n",
       "      <td>0.2</td>\n",
       "      <td>Setosa</td>\n",
       "    </tr>\n",
       "    <tr>\n",
       "      <th>4</th>\n",
       "      <td>5.0</td>\n",
       "      <td>3.6</td>\n",
       "      <td>1.4</td>\n",
       "      <td>0.2</td>\n",
       "      <td>Setosa</td>\n",
       "    </tr>\n",
       "  </tbody>\n",
       "</table>\n",
       "</div>"
      ],
      "text/plain": [
       "   sepal.length  sepal.width  petal.length  petal.width variety\n",
       "0           5.1          3.5           1.4          0.2  Setosa\n",
       "1           4.9          3.0           1.4          0.2  Setosa\n",
       "2           4.7          3.2           1.3          0.2  Setosa\n",
       "3           4.6          3.1           1.5          0.2  Setosa\n",
       "4           5.0          3.6           1.4          0.2  Setosa"
      ]
     },
     "execution_count": 5,
     "metadata": {},
     "output_type": "execute_result"
    }
   ],
   "source": [
    "my_data.head()"
   ]
  },
  {
   "cell_type": "code",
   "execution_count": 6,
   "metadata": {},
   "outputs": [
    {
     "data": {
      "text/html": [
       "<div>\n",
       "<style scoped>\n",
       "    .dataframe tbody tr th:only-of-type {\n",
       "        vertical-align: middle;\n",
       "    }\n",
       "\n",
       "    .dataframe tbody tr th {\n",
       "        vertical-align: top;\n",
       "    }\n",
       "\n",
       "    .dataframe thead th {\n",
       "        text-align: right;\n",
       "    }\n",
       "</style>\n",
       "<table border=\"1\" class=\"dataframe\">\n",
       "  <thead>\n",
       "    <tr style=\"text-align: right;\">\n",
       "      <th></th>\n",
       "      <th>sepal.length</th>\n",
       "      <th>sepal.width</th>\n",
       "      <th>petal.length</th>\n",
       "      <th>petal.width</th>\n",
       "    </tr>\n",
       "  </thead>\n",
       "  <tbody>\n",
       "    <tr>\n",
       "      <th>count</th>\n",
       "      <td>150.000000</td>\n",
       "      <td>150.000000</td>\n",
       "      <td>150.000000</td>\n",
       "      <td>150.000000</td>\n",
       "    </tr>\n",
       "    <tr>\n",
       "      <th>mean</th>\n",
       "      <td>5.843333</td>\n",
       "      <td>3.057333</td>\n",
       "      <td>3.758000</td>\n",
       "      <td>1.199333</td>\n",
       "    </tr>\n",
       "    <tr>\n",
       "      <th>std</th>\n",
       "      <td>0.828066</td>\n",
       "      <td>0.435866</td>\n",
       "      <td>1.765298</td>\n",
       "      <td>0.762238</td>\n",
       "    </tr>\n",
       "    <tr>\n",
       "      <th>min</th>\n",
       "      <td>4.300000</td>\n",
       "      <td>2.000000</td>\n",
       "      <td>1.000000</td>\n",
       "      <td>0.100000</td>\n",
       "    </tr>\n",
       "    <tr>\n",
       "      <th>25%</th>\n",
       "      <td>5.100000</td>\n",
       "      <td>2.800000</td>\n",
       "      <td>1.600000</td>\n",
       "      <td>0.300000</td>\n",
       "    </tr>\n",
       "    <tr>\n",
       "      <th>50%</th>\n",
       "      <td>5.800000</td>\n",
       "      <td>3.000000</td>\n",
       "      <td>4.350000</td>\n",
       "      <td>1.300000</td>\n",
       "    </tr>\n",
       "    <tr>\n",
       "      <th>75%</th>\n",
       "      <td>6.400000</td>\n",
       "      <td>3.300000</td>\n",
       "      <td>5.100000</td>\n",
       "      <td>1.800000</td>\n",
       "    </tr>\n",
       "    <tr>\n",
       "      <th>max</th>\n",
       "      <td>7.900000</td>\n",
       "      <td>4.400000</td>\n",
       "      <td>6.900000</td>\n",
       "      <td>2.500000</td>\n",
       "    </tr>\n",
       "  </tbody>\n",
       "</table>\n",
       "</div>"
      ],
      "text/plain": [
       "       sepal.length  sepal.width  petal.length  petal.width\n",
       "count    150.000000   150.000000    150.000000   150.000000\n",
       "mean       5.843333     3.057333      3.758000     1.199333\n",
       "std        0.828066     0.435866      1.765298     0.762238\n",
       "min        4.300000     2.000000      1.000000     0.100000\n",
       "25%        5.100000     2.800000      1.600000     0.300000\n",
       "50%        5.800000     3.000000      4.350000     1.300000\n",
       "75%        6.400000     3.300000      5.100000     1.800000\n",
       "max        7.900000     4.400000      6.900000     2.500000"
      ]
     },
     "execution_count": 6,
     "metadata": {},
     "output_type": "execute_result"
    }
   ],
   "source": [
    "my_data.describe()"
   ]
  },
  {
   "cell_type": "code",
   "execution_count": 7,
   "metadata": {},
   "outputs": [
    {
     "name": "stdout",
     "output_type": "stream",
     "text": [
      "     sepal.length  sepal.width  petal.length  petal.width  variety\n",
      "0             5.1          3.5           1.4          0.2      0.0\n",
      "1             4.9          3.0           1.4          0.2      0.0\n",
      "2             4.7          3.2           1.3          0.2      0.0\n",
      "3             4.6          3.1           1.5          0.2      0.0\n",
      "4             5.0          3.6           1.4          0.2      0.0\n",
      "..            ...          ...           ...          ...      ...\n",
      "145           6.7          3.0           5.2          2.3      2.0\n",
      "146           6.3          2.5           5.0          1.9      2.0\n",
      "147           6.5          3.0           5.2          2.0      2.0\n",
      "148           6.2          3.4           5.4          2.3      2.0\n",
      "149           5.9          3.0           5.1          1.8      2.0\n",
      "\n",
      "[150 rows x 5 columns]\n"
     ]
    }
   ],
   "source": [
    "my_data['variety'] = my_data['variety'].replace('Setosa', 0.0)\n",
    "my_data['variety'] = my_data['variety'].replace('Versicolor', 1.0)\n",
    "my_data['variety'] = my_data['variety'].replace('Virginica', 2.0)\n",
    "print(my_data)\n",
    "\n",
    "X = my_data.drop('variety', axis=1)\n",
    "y = my_data['variety']\n",
    "\n",
    "# convert X and y to numpy array\n",
    "X = X.values\n",
    "y = y.values"
   ]
  },
  {
   "cell_type": "code",
   "execution_count": 8,
   "metadata": {},
   "outputs": [],
   "source": [
    "X_train, X_test, y_train, y_test = train_test_split(X, y, test_size=0.2, random_state=42)\n",
    "\n",
    "# convert X_train, X_test to Tensors\n",
    "X_train = torch.FloatTensor(X_train)\n",
    "X_test = torch.FloatTensor(X_test)\n",
    "\n",
    "# convert y_train, y_test = Tensors\n",
    "y_train = torch.LongTensor(y_train)\n",
    "y_test = torch.LongTensor(y_test)"
   ]
  },
  {
   "cell_type": "code",
   "execution_count": 9,
   "metadata": {},
   "outputs": [
    {
     "data": {
      "text/plain": [
       "tensor([[4.6000, 3.6000, 1.0000, 0.2000],\n",
       "        [5.7000, 4.4000, 1.5000, 0.4000],\n",
       "        [6.7000, 3.1000, 4.4000, 1.4000],\n",
       "        [4.8000, 3.4000, 1.6000, 0.2000],\n",
       "        [4.4000, 3.2000, 1.3000, 0.2000],\n",
       "        [6.3000, 2.5000, 5.0000, 1.9000],\n",
       "        [6.4000, 3.2000, 4.5000, 1.5000],\n",
       "        [5.2000, 3.5000, 1.5000, 0.2000],\n",
       "        [5.0000, 3.6000, 1.4000, 0.2000],\n",
       "        [5.2000, 4.1000, 1.5000, 0.1000],\n",
       "        [5.8000, 2.7000, 5.1000, 1.9000],\n",
       "        [6.0000, 3.4000, 4.5000, 1.6000],\n",
       "        [6.7000, 3.1000, 4.7000, 1.5000],\n",
       "        [5.4000, 3.9000, 1.3000, 0.4000],\n",
       "        [5.4000, 3.7000, 1.5000, 0.2000],\n",
       "        [5.5000, 2.4000, 3.7000, 1.0000],\n",
       "        [6.3000, 2.8000, 5.1000, 1.5000],\n",
       "        [6.4000, 3.1000, 5.5000, 1.8000],\n",
       "        [6.6000, 3.0000, 4.4000, 1.4000],\n",
       "        [7.2000, 3.6000, 6.1000, 2.5000],\n",
       "        [5.7000, 2.9000, 4.2000, 1.3000],\n",
       "        [7.6000, 3.0000, 6.6000, 2.1000],\n",
       "        [5.6000, 3.0000, 4.5000, 1.5000],\n",
       "        [5.1000, 3.5000, 1.4000, 0.2000],\n",
       "        [7.7000, 2.8000, 6.7000, 2.0000],\n",
       "        [5.8000, 2.7000, 4.1000, 1.0000],\n",
       "        [5.2000, 3.4000, 1.4000, 0.2000],\n",
       "        [5.0000, 3.5000, 1.3000, 0.3000],\n",
       "        [5.1000, 3.8000, 1.9000, 0.4000],\n",
       "        [5.0000, 2.0000, 3.5000, 1.0000],\n",
       "        [6.3000, 2.7000, 4.9000, 1.8000],\n",
       "        [4.8000, 3.4000, 1.9000, 0.2000],\n",
       "        [5.0000, 3.0000, 1.6000, 0.2000],\n",
       "        [5.1000, 3.3000, 1.7000, 0.5000],\n",
       "        [5.6000, 2.7000, 4.2000, 1.3000],\n",
       "        [5.1000, 3.4000, 1.5000, 0.2000],\n",
       "        [5.7000, 3.0000, 4.2000, 1.2000],\n",
       "        [7.7000, 3.8000, 6.7000, 2.2000],\n",
       "        [4.6000, 3.2000, 1.4000, 0.2000],\n",
       "        [6.2000, 2.9000, 4.3000, 1.3000],\n",
       "        [5.7000, 2.5000, 5.0000, 2.0000],\n",
       "        [5.5000, 4.2000, 1.4000, 0.2000],\n",
       "        [6.0000, 3.0000, 4.8000, 1.8000],\n",
       "        [5.8000, 2.7000, 5.1000, 1.9000],\n",
       "        [6.0000, 2.2000, 4.0000, 1.0000],\n",
       "        [5.4000, 3.0000, 4.5000, 1.5000],\n",
       "        [6.2000, 3.4000, 5.4000, 2.3000],\n",
       "        [5.5000, 2.3000, 4.0000, 1.3000],\n",
       "        [5.4000, 3.9000, 1.7000, 0.4000],\n",
       "        [5.0000, 2.3000, 3.3000, 1.0000],\n",
       "        [6.4000, 2.7000, 5.3000, 1.9000],\n",
       "        [5.0000, 3.3000, 1.4000, 0.2000],\n",
       "        [5.0000, 3.2000, 1.2000, 0.2000],\n",
       "        [5.5000, 2.4000, 3.8000, 1.1000],\n",
       "        [6.7000, 3.0000, 5.0000, 1.7000],\n",
       "        [4.9000, 3.1000, 1.5000, 0.2000],\n",
       "        [5.8000, 2.8000, 5.1000, 2.4000],\n",
       "        [5.0000, 3.4000, 1.5000, 0.2000],\n",
       "        [5.0000, 3.5000, 1.6000, 0.6000],\n",
       "        [5.9000, 3.2000, 4.8000, 1.8000],\n",
       "        [5.1000, 2.5000, 3.0000, 1.1000],\n",
       "        [6.9000, 3.2000, 5.7000, 2.3000],\n",
       "        [6.0000, 2.7000, 5.1000, 1.6000],\n",
       "        [6.1000, 2.6000, 5.6000, 1.4000],\n",
       "        [7.7000, 3.0000, 6.1000, 2.3000],\n",
       "        [5.5000, 2.5000, 4.0000, 1.3000],\n",
       "        [4.4000, 2.9000, 1.4000, 0.2000],\n",
       "        [4.3000, 3.0000, 1.1000, 0.1000],\n",
       "        [6.0000, 2.2000, 5.0000, 1.5000],\n",
       "        [7.2000, 3.2000, 6.0000, 1.8000],\n",
       "        [4.6000, 3.1000, 1.5000, 0.2000],\n",
       "        [5.1000, 3.5000, 1.4000, 0.3000],\n",
       "        [4.4000, 3.0000, 1.3000, 0.2000],\n",
       "        [6.3000, 2.5000, 4.9000, 1.5000],\n",
       "        [6.3000, 3.4000, 5.6000, 2.4000],\n",
       "        [4.6000, 3.4000, 1.4000, 0.3000],\n",
       "        [6.8000, 3.0000, 5.5000, 2.1000],\n",
       "        [6.3000, 3.3000, 6.0000, 2.5000],\n",
       "        [4.7000, 3.2000, 1.3000, 0.2000],\n",
       "        [6.1000, 2.9000, 4.7000, 1.4000],\n",
       "        [6.5000, 2.8000, 4.6000, 1.5000],\n",
       "        [6.2000, 2.8000, 4.8000, 1.8000],\n",
       "        [7.0000, 3.2000, 4.7000, 1.4000],\n",
       "        [6.4000, 3.2000, 5.3000, 2.3000],\n",
       "        [5.1000, 3.8000, 1.6000, 0.2000],\n",
       "        [6.9000, 3.1000, 5.4000, 2.1000],\n",
       "        [5.9000, 3.0000, 4.2000, 1.5000],\n",
       "        [6.5000, 3.0000, 5.2000, 2.0000],\n",
       "        [5.7000, 2.6000, 3.5000, 1.0000],\n",
       "        [5.2000, 2.7000, 3.9000, 1.4000],\n",
       "        [6.1000, 3.0000, 4.6000, 1.4000],\n",
       "        [4.5000, 2.3000, 1.3000, 0.3000],\n",
       "        [6.6000, 2.9000, 4.6000, 1.3000],\n",
       "        [5.5000, 2.6000, 4.4000, 1.2000],\n",
       "        [5.3000, 3.7000, 1.5000, 0.2000],\n",
       "        [5.6000, 3.0000, 4.1000, 1.3000],\n",
       "        [7.3000, 2.9000, 6.3000, 1.8000],\n",
       "        [6.7000, 3.3000, 5.7000, 2.1000],\n",
       "        [5.1000, 3.7000, 1.5000, 0.4000],\n",
       "        [4.9000, 2.4000, 3.3000, 1.0000],\n",
       "        [6.7000, 3.3000, 5.7000, 2.5000],\n",
       "        [7.2000, 3.0000, 5.8000, 1.6000],\n",
       "        [4.9000, 3.6000, 1.4000, 0.1000],\n",
       "        [6.7000, 3.1000, 5.6000, 2.4000],\n",
       "        [4.9000, 3.0000, 1.4000, 0.2000],\n",
       "        [6.9000, 3.1000, 4.9000, 1.5000],\n",
       "        [7.4000, 2.8000, 6.1000, 1.9000],\n",
       "        [6.3000, 2.9000, 5.6000, 1.8000],\n",
       "        [5.7000, 2.8000, 4.1000, 1.3000],\n",
       "        [6.5000, 3.0000, 5.5000, 1.8000],\n",
       "        [6.3000, 2.3000, 4.4000, 1.3000],\n",
       "        [6.4000, 2.9000, 4.3000, 1.3000],\n",
       "        [5.6000, 2.8000, 4.9000, 2.0000],\n",
       "        [5.9000, 3.0000, 5.1000, 1.8000],\n",
       "        [5.4000, 3.4000, 1.7000, 0.2000],\n",
       "        [6.1000, 2.8000, 4.0000, 1.3000],\n",
       "        [4.9000, 2.5000, 4.5000, 1.7000],\n",
       "        [5.8000, 4.0000, 1.2000, 0.2000],\n",
       "        [5.8000, 2.6000, 4.0000, 1.2000],\n",
       "        [7.1000, 3.0000, 5.9000, 2.1000]])"
      ]
     },
     "execution_count": 9,
     "metadata": {},
     "output_type": "execute_result"
    }
   ],
   "source": [
    "X_train"
   ]
  },
  {
   "cell_type": "code",
   "execution_count": 10,
   "metadata": {},
   "outputs": [],
   "source": [
    "model = Model()"
   ]
  },
  {
   "cell_type": "code",
   "execution_count": 11,
   "metadata": {},
   "outputs": [],
   "source": [
    "criterion = nn.CrossEntropyLoss()\n",
    "optimizer = torch.optim.Adam(model.parameters(), lr=0.001)"
   ]
  },
  {
   "cell_type": "code",
   "execution_count": 12,
   "metadata": {},
   "outputs": [
    {
     "name": "stdout",
     "output_type": "stream",
     "text": [
      "Epoch: 0 amd loss: 1.1208813190460205\n",
      "Epoch: 10 amd loss: 1.1106122732162476\n",
      "Epoch: 20 amd loss: 1.100205659866333\n",
      "Epoch: 30 amd loss: 1.0888785123825073\n",
      "Epoch: 40 amd loss: 1.0784879922866821\n",
      "Epoch: 50 amd loss: 1.0684517621994019\n",
      "Epoch: 60 amd loss: 1.0609418153762817\n",
      "Epoch: 70 amd loss: 1.056349754333496\n",
      "Epoch: 80 amd loss: 1.0510166883468628\n",
      "Epoch: 90 amd loss: 1.044899821281433\n",
      "Epoch: 100 amd loss: 1.0378015041351318\n",
      "Epoch: 110 amd loss: 1.0299357175827026\n",
      "Epoch: 120 amd loss: 1.0230803489685059\n",
      "Epoch: 130 amd loss: 1.0169007778167725\n",
      "Epoch: 140 amd loss: 1.0097906589508057\n",
      "Epoch: 150 amd loss: 1.001136064529419\n",
      "Epoch: 160 amd loss: 0.9911906719207764\n",
      "Epoch: 170 amd loss: 0.9811991453170776\n",
      "Epoch: 180 amd loss: 0.9719356894493103\n",
      "Epoch: 190 amd loss: 0.9626215696334839\n",
      "Epoch: 200 amd loss: 0.9528564810752869\n",
      "Epoch: 210 amd loss: 0.9424505829811096\n",
      "Epoch: 220 amd loss: 0.9318828582763672\n",
      "Epoch: 230 amd loss: 0.9214358925819397\n",
      "Epoch: 240 amd loss: 0.9107798933982849\n"
     ]
    }
   ],
   "source": [
    "epochs = 250\n",
    "losses = []\n",
    "for epoch in range(epochs):\n",
    "    y_pred = model.forward(X_train)\n",
    "\n",
    "    loss = criterion(y_pred, y_train)\n",
    "    losses.append(loss.detach().numpy())\n",
    "\n",
    "    if epoch % 10 ==0:\n",
    "        print(f'Epoch: {epoch} amd loss: {loss}')\n",
    "\n",
    "        optimizer.zero_grad()\n",
    "        loss.backward()\n",
    "        optimizer.step()\n"
   ]
  },
  {
   "cell_type": "code",
   "execution_count": 13,
   "metadata": {},
   "outputs": [
    {
     "data": {
      "text/plain": [
       "Text(0.5, 0, 'Epoch')"
      ]
     },
     "execution_count": 13,
     "metadata": {},
     "output_type": "execute_result"
    },
    {
     "data": {
      "image/png": "[encoded data removed]",
      "text/plain": [
       "<Figure size 640x480 with 1 Axes>"
      ]
     },
     "metadata": {},
     "output_type": "display_data"
    }
   ],
   "source": [
    "plt.plot(range(epochs), losses)\n",
    "plt.grid()\n",
    "plt.ylabel(\"Loss/Error\")\n",
    "plt.xlabel(\"Epoch\")"
   ]
  },
  {
   "cell_type": "code",
   "execution_count": 14,
   "metadata": {},
   "outputs": [],
   "source": [
    "with torch.no_grad():\n",
    "    y_eval= model.forward(X_test)\n",
    "    loss = criterion(y_eval, y_test)\n"
   ]
  },
  {
   "cell_type": "code",
   "execution_count": 15,
   "metadata": {},
   "outputs": [
    {
     "data": {
      "text/plain": [
       "tensor(0.9123)"
      ]
     },
     "execution_count": 15,
     "metadata": {},
     "output_type": "execute_result"
    }
   ],
   "source": [
    "loss"
   ]
  },
  {
   "cell_type": "code",
   "execution_count": 16,
   "metadata": {},
   "outputs": [
    {
     "name": "stdout",
     "output_type": "stream",
     "text": [
      "1.) tensor([-0.1752,  0.2963,  0.0597]) \t 1 \t 1 \t Versicolor \t Versicolor\n",
      "2.) tensor([ 0.6081, -0.4849,  0.0706]) \t 0 \t 0 \t Setosa \t Setosa\n",
      "3.) tensor([-0.2087,  0.4151,  0.1189]) \t 2 \t 1 \t Virginica \t Versicolor\n",
      "4.) tensor([-0.1641,  0.2798,  0.0542]) \t 1 \t 1 \t Versicolor \t Versicolor\n",
      "5.) tensor([-0.1724,  0.2988,  0.0429]) \t 1 \t 1 \t Versicolor \t Versicolor\n",
      "6.) tensor([ 0.5595, -0.4438,  0.0746]) \t 0 \t 0 \t Setosa \t Setosa\n",
      "7.) tensor([-0.0275,  0.1219,  0.0308]) \t 1 \t 1 \t Versicolor \t Versicolor\n",
      "8.) tensor([-0.1776,  0.3239,  0.0800]) \t 2 \t 1 \t Virginica \t Versicolor\n",
      "9.) tensor([-0.1693,  0.3007,  0.0797]) \t 1 \t 1 \t Versicolor \t Versicolor\n",
      "10.) tensor([-0.0970,  0.1937,  0.0272]) \t 1 \t 1 \t Versicolor \t Versicolor\n",
      "11.) tensor([-0.1766,  0.3211,  0.0835]) \t 2 \t 1 \t Virginica \t Versicolor\n",
      "12.) tensor([ 0.5126, -0.4042,  0.0786]) \t 0 \t 0 \t Setosa \t Setosa\n",
      "13.) tensor([ 0.6355, -0.5071,  0.0804]) \t 0 \t 0 \t Setosa \t Setosa\n",
      "14.) tensor([ 0.5139, -0.4037,  0.0762]) \t 0 \t 0 \t Setosa \t Setosa\n",
      "15.) tensor([ 0.6158, -0.4964,  0.0793]) \t 0 \t 0 \t Setosa \t Setosa\n",
      "16.) tensor([-0.1579,  0.2701,  0.0402]) \t 1 \t 1 \t Versicolor \t Versicolor\n",
      "17.) tensor([-0.1823,  0.3593,  0.1235]) \t 2 \t 1 \t Virginica \t Versicolor\n",
      "18.) tensor([-0.1219,  0.2197,  0.0335]) \t 1 \t 1 \t Versicolor \t Versicolor\n",
      "19.) tensor([-0.1675,  0.2851,  0.0661]) \t 1 \t 1 \t Versicolor \t Versicolor\n",
      "20.) tensor([-0.1781,  0.3516,  0.1248]) \t 2 \t 1 \t Virginica \t Versicolor\n",
      "21.) tensor([ 0.4911, -0.3847,  0.0750]) \t 0 \t 0 \t Setosa \t Setosa\n",
      "22.) tensor([-0.1711,  0.3121,  0.0895]) \t 2 \t 1 \t Virginica \t Versicolor\n",
      "23.) tensor([ 0.5193, -0.4095,  0.0739]) \t 0 \t 0 \t Setosa \t Setosa\n",
      "24.) tensor([-0.1788,  0.3525,  0.1245]) \t 2 \t 1 \t Virginica \t Versicolor\n",
      "25.) tensor([-0.2095,  0.4010,  0.1025]) \t 2 \t 1 \t Virginica \t Versicolor\n",
      "26.) tensor([-0.1755,  0.3361,  0.1057]) \t 2 \t 1 \t Virginica \t Versicolor\n",
      "27.) tensor([-0.1869,  0.3689,  0.1228]) \t 2 \t 1 \t Virginica \t Versicolor\n",
      "28.) tensor([-0.1874,  0.3675,  0.1217]) \t 2 \t 1 \t Virginica \t Versicolor\n",
      "29.) tensor([ 0.4946, -0.3871,  0.0782]) \t 0 \t 0 \t Setosa \t Setosa\n",
      "30.) tensor([ 0.4792, -0.3714,  0.0740]) \t 0 \t 0 \t Setosa \t Setosa\n",
      "We got 19 correct\n"
     ]
    }
   ],
   "source": [
    "correct = 0\n",
    "with torch.no_grad():\n",
    "    for i, data in enumerate(X_test):\n",
    "        y_val = model.forward(data)\n",
    "\n",
    "        if y_test[i]==0:\n",
    "            x = 'Setosa'\n",
    "        elif y_test[i]==1:\n",
    "             x = 'Versicolor'\n",
    "        else:\n",
    "             x = 'Virginica'\n",
    "        \n",
    "        if y_val.argmax()==0:\n",
    "            z = 'Setosa'\n",
    "        elif y_val.argmax()==1:\n",
    "             z = 'Versicolor'\n",
    "        else:\n",
    "             z = 'Virginica'\n",
    "\n",
    "\n",
    "\n",
    "        print(f'{i+1}.) {str(y_val)} \\t {y_test[i]} \\t {y_val.argmax().item()} \\t {x} \\t {z}')\n",
    "\n",
    "        if y_val.argmax().item() == y_test[i]:\n",
    "            correct +=1\n",
    "    print(f'We got {correct} correct')\n",
    "        "
   ]
  },
  {
   "cell_type": "code",
   "execution_count": 17,
   "metadata": {},
   "outputs": [],
   "source": [
    "new_iris = torch.tensor([4.7, 3.2, 1.3, 0.2])"
   ]
  },
  {
   "cell_type": "code",
   "execution_count": 18,
   "metadata": {},
   "outputs": [
    {
     "name": "stdout",
     "output_type": "stream",
     "text": [
      "tensor([ 0.5470, -0.4372,  0.0821])\n"
     ]
    }
   ],
   "source": [
    "with torch.no_grad():\n",
    "    y = model(new_iris)\n",
    "    print (y)"
   ]
  },
  {
   "cell_type": "code",
   "execution_count": 19,
   "metadata": {},
   "outputs": [],
   "source": [
    "def new_data_testing(new_data):\n",
    "    new = model(new_data)\n",
    "    \n",
    "    if new.argmax()==0:\n",
    "        z = 'Setosa'\n",
    "    elif new.argmax()==1:\n",
    "        z = 'Versicolor'\n",
    "    else:\n",
    "        z = 'Virginica'\n",
    "    print(z)\n"
   ]
  },
  {
   "cell_type": "code",
   "execution_count": 20,
   "metadata": {},
   "outputs": [
    {
     "name": "stdout",
     "output_type": "stream",
     "text": [
      "Setosa\n"
     ]
    }
   ],
   "source": [
    "new_data_testing(new_iris)"
   ]
  },
  {
   "cell_type": "code",
   "execution_count": 21,
   "metadata": {},
   "outputs": [],
   "source": [
    "# Save our model\n",
    "torch.save(model.state_dict(), 'IRIS_Model_Pytorch.pt')"
   ]
  },
  {
   "cell_type": "code",
   "execution_count": 22,
   "metadata": {},
   "outputs": [
    {
     "data": {
      "text/plain": [
       "Model(\n",
       "  (fc1): Linear(in_features=4, out_features=100, bias=True)\n",
       "  (fc2): Linear(in_features=100, out_features=50, bias=True)\n",
       "  (fc3): Linear(in_features=50, out_features=20, bias=True)\n",
       "  (out): Linear(in_features=20, out_features=3, bias=True)\n",
       ")"
      ]
     },
     "execution_count": 22,
     "metadata": {},
     "output_type": "execute_result"
    }
   ],
   "source": [
    "# Load our model\n",
    "new_model = Model()\n",
    "new_model.load_state_dict(torch.load('IRIS_Model_Pytorch.pt'))\n",
    "new_model.eval()"
   ]
  }
 ],
 "metadata": {
  "kernelspec": {
   "display_name": "DL",
   "language": "python",
   "name": "python3"
  },
  "language_info": {
   "codemirror_mode": {
    "name": "ipython",
    "version": 3
   },
   "file_extension": ".py",
   "mimetype": "text/x-python",
   "name": "python",
   "nbconvert_exporter": "python",
   "pygments_lexer": "ipython3",
   "version": "3.10.12"
  },
  "orig_nbformat": 4
 },
 "nbformat": 4,
 "nbformat_minor": 2
}
